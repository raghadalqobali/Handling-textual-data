{
 "cells": [
  {
   "cell_type": "markdown",
   "metadata": {},
   "source": [
    "# Import software libraries"
   ]
  },
  {
   "cell_type": "code",
   "execution_count": 1,
   "metadata": {
    "executionInfo": {
     "elapsed": 627,
     "status": "ok",
     "timestamp": 1616418554531,
     "user": {
      "displayName": "Sarah Haq",
      "photoUrl": "https://lh3.googleusercontent.com/a-/AOh14Gh7vs3P5_F3LYi7bEV8r1vbltDxEgpoYXmxHgxGBw=s64",
      "userId": "16294508270436203551"
     },
     "user_tz": -60
    },
    "id": "yrlor0Kj-nOw"
   },
   "outputs": [
    {
     "name": "stdout",
     "output_type": "stream",
     "text": [
      "Libraries used in this project:\n",
      "- Python 3.7.6 | packaged by conda-forge | (default, Mar 23 2020, 23:03:20) \n",
      "[GCC 7.3.0]\n",
      "- NumPy 1.19.2\n",
      "- pandas 1.1.3\n",
      "- spaCy 3.0.5\n",
      "- NLTK 3.5\n"
     ]
    }
   ],
   "source": [
    "import sys                                                    # Read system parameters.\n",
    "import numpy as np                                            # Work with multi-dimensional arrays.\n",
    "import pandas as pd\n",
    "import spacy                                                  # Process text.\n",
    "import nltk                                                   # Process text.\n",
    "from nltk.tokenize import word_tokenize\n",
    "from nltk.stem.snowball import SnowballStemmer\n",
    "nltk.data.path.append('/home/jovyan/work/nltk_data/')\n",
    "import re                                                     # Work with regular expressions.\n",
    "import warnings                                               # Suppress warnings.\n",
    "warnings.filterwarnings('ignore')\n",
    "\n",
    "# Summarize software libraries used.\n",
    "print('Libraries used in this project:')\n",
    "print('- Python {}'.format(sys.version))\n",
    "print('- NumPy {}'.format(np.__version__))\n",
    "print('- pandas {}'.format(pd.__version__))\n",
    "print('- spaCy {}'.format(spacy.__version__))\n",
    "print('- NLTK {}'.format(nltk.__version__))"
   ]
  },
  {
   "cell_type": "markdown",
   "metadata": {
    "id": "UKZryGnZ-u5r"
   },
   "source": [
    "# Read and preview the text data"
   ]
  },
  {
   "cell_type": "code",
   "execution_count": 2,
   "metadata": {
    "executionInfo": {
     "elapsed": 942,
     "status": "ok",
     "timestamp": 1616418579951,
     "user": {
      "displayName": "Sarah Haq",
      "photoUrl": "https://lh3.googleusercontent.com/a-/AOh14Gh7vs3P5_F3LYi7bEV8r1vbltDxEgpoYXmxHgxGBw=s64",
      "userId": "16294508270436203551"
     },
     "user_tz": -60
    },
    "id": "DaKYu_cZ-k4r"
   },
   "outputs": [
    {
     "data": {
      "text/html": [
       "<div>\n",
       "<style scoped>\n",
       "    .dataframe tbody tr th:only-of-type {\n",
       "        vertical-align: middle;\n",
       "    }\n",
       "\n",
       "    .dataframe tbody tr th {\n",
       "        vertical-align: top;\n",
       "    }\n",
       "\n",
       "    .dataframe thead th {\n",
       "        text-align: right;\n",
       "    }\n",
       "</style>\n",
       "<table border=\"1\" class=\"dataframe\">\n",
       "  <thead>\n",
       "    <tr style=\"text-align: right;\">\n",
       "      <th></th>\n",
       "      <th>user_id</th>\n",
       "      <th>Date received</th>\n",
       "      <th>Product</th>\n",
       "      <th>Issue</th>\n",
       "      <th>Consumer complaint narrative</th>\n",
       "      <th>State</th>\n",
       "      <th>ZIP code</th>\n",
       "      <th>Submitted via</th>\n",
       "      <th>Date sent to company</th>\n",
       "      <th>Company response to consumer</th>\n",
       "      <th>Timely response?</th>\n",
       "      <th>Consumer disputed?</th>\n",
       "      <th>Complaint ID</th>\n",
       "    </tr>\n",
       "  </thead>\n",
       "  <tbody>\n",
       "    <tr>\n",
       "      <th>0</th>\n",
       "      <td>44fefdad-7045-4be5-890e-12e84ae6fdc9</td>\n",
       "      <td>01/27/2016</td>\n",
       "      <td>Consumer Loan</td>\n",
       "      <td>Account terms and changes</td>\n",
       "      <td>NaN</td>\n",
       "      <td>AL</td>\n",
       "      <td>35180</td>\n",
       "      <td>Phone</td>\n",
       "      <td>01/27/2016</td>\n",
       "      <td>Closed with explanation</td>\n",
       "      <td>Yes</td>\n",
       "      <td>No</td>\n",
       "      <td>1760486</td>\n",
       "    </tr>\n",
       "    <tr>\n",
       "      <th>1</th>\n",
       "      <td>c49d5d60-909f-406b-b7ff-51143fcb650b</td>\n",
       "      <td>08/26/2014</td>\n",
       "      <td>Consumer Loan</td>\n",
       "      <td>Account terms and changes</td>\n",
       "      <td>NaN</td>\n",
       "      <td>NC</td>\n",
       "      <td>278XX</td>\n",
       "      <td>Phone</td>\n",
       "      <td>08/29/2014</td>\n",
       "      <td>Closed with non-monetary relief</td>\n",
       "      <td>Yes</td>\n",
       "      <td>No</td>\n",
       "      <td>1001740</td>\n",
       "    </tr>\n",
       "    <tr>\n",
       "      <th>2</th>\n",
       "      <td>9b2cd5d2-900e-4052-831f-6489f6d568af</td>\n",
       "      <td>08/22/2012</td>\n",
       "      <td>Consumer Loan</td>\n",
       "      <td>Account terms and changes</td>\n",
       "      <td>NaN</td>\n",
       "      <td>TN</td>\n",
       "      <td>37205</td>\n",
       "      <td>Referral</td>\n",
       "      <td>08/23/2012</td>\n",
       "      <td>Closed with non-monetary relief</td>\n",
       "      <td>Yes</td>\n",
       "      <td>No</td>\n",
       "      <td>140039</td>\n",
       "    </tr>\n",
       "    <tr>\n",
       "      <th>3</th>\n",
       "      <td>b7e5b324-268e-4502-81a1-1a025673c2a0</td>\n",
       "      <td>05/07/2013</td>\n",
       "      <td>Consumer Loan</td>\n",
       "      <td>Problems when you are unable to pay</td>\n",
       "      <td>NaN</td>\n",
       "      <td>OH</td>\n",
       "      <td>43081</td>\n",
       "      <td>Web</td>\n",
       "      <td>05/08/2013</td>\n",
       "      <td>Closed with explanation</td>\n",
       "      <td>Yes</td>\n",
       "      <td>Yes</td>\n",
       "      <td>401541</td>\n",
       "    </tr>\n",
       "    <tr>\n",
       "      <th>4</th>\n",
       "      <td>684eeb4c-c9c3-4a97-8213-f3962a6c0aba</td>\n",
       "      <td>06/15/2016</td>\n",
       "      <td>Consumer Loan</td>\n",
       "      <td>Managing the line of credit</td>\n",
       "      <td>NaN</td>\n",
       "      <td>NC</td>\n",
       "      <td>27216</td>\n",
       "      <td>Phone</td>\n",
       "      <td>09/08/2016</td>\n",
       "      <td>Closed with non-monetary relief</td>\n",
       "      <td>Yes</td>\n",
       "      <td>No</td>\n",
       "      <td>1970341</td>\n",
       "    </tr>\n",
       "  </tbody>\n",
       "</table>\n",
       "</div>"
      ],
      "text/plain": [
       "                                user_id Date received        Product  \\\n",
       "0  44fefdad-7045-4be5-890e-12e84ae6fdc9    01/27/2016  Consumer Loan   \n",
       "1  c49d5d60-909f-406b-b7ff-51143fcb650b    08/26/2014  Consumer Loan   \n",
       "2  9b2cd5d2-900e-4052-831f-6489f6d568af    08/22/2012  Consumer Loan   \n",
       "3  b7e5b324-268e-4502-81a1-1a025673c2a0    05/07/2013  Consumer Loan   \n",
       "4  684eeb4c-c9c3-4a97-8213-f3962a6c0aba    06/15/2016  Consumer Loan   \n",
       "\n",
       "                                 Issue Consumer complaint narrative State  \\\n",
       "0            Account terms and changes                          NaN    AL   \n",
       "1            Account terms and changes                          NaN    NC   \n",
       "2            Account terms and changes                          NaN    TN   \n",
       "3  Problems when you are unable to pay                          NaN    OH   \n",
       "4          Managing the line of credit                          NaN    NC   \n",
       "\n",
       "  ZIP code Submitted via Date sent to company  \\\n",
       "0    35180         Phone           01/27/2016   \n",
       "1    278XX         Phone           08/29/2014   \n",
       "2    37205      Referral           08/23/2012   \n",
       "3    43081           Web           05/08/2013   \n",
       "4    27216         Phone           09/08/2016   \n",
       "\n",
       "      Company response to consumer Timely response? Consumer disputed?  \\\n",
       "0          Closed with explanation              Yes                 No   \n",
       "1  Closed with non-monetary relief              Yes                 No   \n",
       "2  Closed with non-monetary relief              Yes                 No   \n",
       "3          Closed with explanation              Yes                Yes   \n",
       "4  Closed with non-monetary relief              Yes                 No   \n",
       "\n",
       "   Complaint ID  \n",
       "0       1760486  \n",
       "1       1001740  \n",
       "2        140039  \n",
       "3        401541  \n",
       "4       1970341  "
      ]
     },
     "execution_count": 2,
     "metadata": {},
     "output_type": "execute_result"
    }
   ],
   "source": [
    "complaints_data = pd.read_csv('/home/jovyan/work/Text/data/consumer_loan_complaints.csv')\n",
    "\n",
    "complaints_data.head()\n",
    "\n"
   ]
  },
  {
   "cell_type": "markdown",
   "metadata": {},
   "source": [
    "# Check the shape of the data"
   ]
  },
  {
   "cell_type": "code",
   "execution_count": 3,
   "metadata": {
    "colab": {
     "base_uri": "https://localhost:8080/"
    },
    "executionInfo": {
     "elapsed": 597,
     "status": "ok",
     "timestamp": 1616418579953,
     "user": {
      "displayName": "Sarah Haq",
      "photoUrl": "https://lh3.googleusercontent.com/a-/AOh14Gh7vs3P5_F3LYi7bEV8r1vbltDxEgpoYXmxHgxGBw=s64",
      "userId": "16294508270436203551"
     },
     "user_tz": -60
    },
    "id": "1NRvg12-Aunj",
    "outputId": "cc569dfa-f768-4c89-9e41-dd3dc6b01ccf"
   },
   "outputs": [
    {
     "data": {
      "text/plain": [
       "(1824, 13)"
      ]
     },
     "execution_count": 3,
     "metadata": {},
     "output_type": "execute_result"
    }
   ],
   "source": [
    "\n",
    "complaints_data.shape"
   ]
  },
  {
   "cell_type": "markdown",
   "metadata": {},
   "source": [
    "# Retrieve information about the data"
   ]
  },
  {
   "cell_type": "code",
   "execution_count": 4,
   "metadata": {
    "colab": {
     "base_uri": "https://localhost:8080/"
    },
    "executionInfo": {
     "elapsed": 633,
     "status": "ok",
     "timestamp": 1616418580181,
     "user": {
      "displayName": "Sarah Haq",
      "photoUrl": "https://lh3.googleusercontent.com/a-/AOh14Gh7vs3P5_F3LYi7bEV8r1vbltDxEgpoYXmxHgxGBw=s64",
      "userId": "16294508270436203551"
     },
     "user_tz": -60
    },
    "id": "kreNW1qTAw_5",
    "outputId": "a95773f4-3c29-44ba-a879-2aefc13efa92"
   },
   "outputs": [
    {
     "name": "stdout",
     "output_type": "stream",
     "text": [
      "<class 'pandas.core.frame.DataFrame'>\n",
      "RangeIndex: 1824 entries, 0 to 1823\n",
      "Data columns (total 13 columns):\n",
      " #   Column                        Non-Null Count  Dtype \n",
      "---  ------                        --------------  ----- \n",
      " 0   user_id                       1824 non-null   object\n",
      " 1   Date received                 1824 non-null   object\n",
      " 2   Product                       1824 non-null   object\n",
      " 3   Issue                         1824 non-null   object\n",
      " 4   Consumer complaint narrative  44 non-null     object\n",
      " 5   State                         1801 non-null   object\n",
      " 6   ZIP code                      1789 non-null   object\n",
      " 7   Submitted via                 1824 non-null   object\n",
      " 8   Date sent to company          1824 non-null   object\n",
      " 9   Company response to consumer  1824 non-null   object\n",
      " 10  Timely response?              1824 non-null   object\n",
      " 11  Consumer disputed?            1824 non-null   object\n",
      " 12  Complaint ID                  1824 non-null   int64 \n",
      "dtypes: int64(1), object(12)\n",
      "memory usage: 185.4+ KB\n"
     ]
    }
   ],
   "source": [
    "\n",
    "complaints_data.info()"
   ]
  },
  {
   "cell_type": "code",
   "execution_count": 5,
   "metadata": {
    "colab": {
     "base_uri": "https://localhost:8080/"
    },
    "executionInfo": {
     "elapsed": 670,
     "status": "ok",
     "timestamp": 1616418580440,
     "user": {
      "displayName": "Sarah Haq",
      "photoUrl": "https://lh3.googleusercontent.com/a-/AOh14Gh7vs3P5_F3LYi7bEV8r1vbltDxEgpoYXmxHgxGBw=s64",
      "userId": "16294508270436203551"
     },
     "user_tz": -60
    },
    "id": "eRI3qKnkA2LB",
    "outputId": "7b03f57b-7154-4ac3-b2ef-9e59401e1b1d"
   },
   "outputs": [
    {
     "data": {
      "text/plain": [
       "Managing the line of credit            806\n",
       "Account terms and changes              484\n",
       "Shopping for a line of credit          301\n",
       "Problems when you are unable to pay    233\n",
       "Name: Issue, dtype: int64"
      ]
     },
     "execution_count": 5,
     "metadata": {},
     "output_type": "execute_result"
    }
   ],
   "source": [
    "complaints_data.Issue.value_counts()"
   ]
  },
  {
   "cell_type": "code",
   "execution_count": 6,
   "metadata": {
    "colab": {
     "base_uri": "https://localhost:8080/"
    },
    "executionInfo": {
     "elapsed": 414,
     "status": "ok",
     "timestamp": 1616418580656,
     "user": {
      "displayName": "Sarah Haq",
      "photoUrl": "https://lh3.googleusercontent.com/a-/AOh14Gh7vs3P5_F3LYi7bEV8r1vbltDxEgpoYXmxHgxGBw=s64",
      "userId": "16294508270436203551"
     },
     "user_tz": -60
    },
    "id": "6iwZBoTfBBAZ",
    "outputId": "a8c71c02-b108-4c76-d5e5-a268b4dc6d35"
   },
   "outputs": [
    {
     "data": {
      "text/plain": [
       "Closed with explanation            1291\n",
       "Closed with non-monetary relief     184\n",
       "Closed with monetary relief         182\n",
       "Closed without relief                75\n",
       "Closed                               65\n",
       "Closed with relief                   19\n",
       "Untimely response                     8\n",
       "Name: Company response to consumer, dtype: int64"
      ]
     },
     "execution_count": 6,
     "metadata": {},
     "output_type": "execute_result"
    }
   ],
   "source": [
    "complaints_data['Company response to consumer'].value_counts()"
   ]
  },
  {
   "cell_type": "markdown",
   "metadata": {
    "id": "IkIkbAT5CEV4"
   },
   "source": [
    "# Extract a subset of data to consider only consumer complaints"
   ]
  },
  {
   "cell_type": "code",
   "execution_count": 7,
   "metadata": {
    "colab": {
     "base_uri": "https://localhost:8080/"
    },
    "executionInfo": {
     "elapsed": 463,
     "status": "ok",
     "timestamp": 1616418581325,
     "user": {
      "displayName": "Sarah Haq",
      "photoUrl": "https://lh3.googleusercontent.com/a-/AOh14Gh7vs3P5_F3LYi7bEV8r1vbltDxEgpoYXmxHgxGBw=s64",
      "userId": "16294508270436203551"
     },
     "user_tz": -60
    },
    "id": "uHP7DJQnCKQ0",
    "outputId": "5a3dde4b-5ac4-4740-9941-0fcc526ee437"
   },
   "outputs": [
    {
     "name": "stdout",
     "output_type": "stream",
     "text": [
      "Number of users with no complaints data: 1780\n"
     ]
    }
   ],
   "source": [
    "print('Number of users with no complaints data:',\n",
    "      complaints_data['Consumer complaint narrative'].isnull().sum())\n"
   ]
  },
  {
   "cell_type": "code",
   "execution_count": 8,
   "metadata": {
    "colab": {
     "base_uri": "https://localhost:8080/",
     "height": 142
    },
    "executionInfo": {
     "elapsed": 387,
     "status": "ok",
     "timestamp": 1616418581634,
     "user": {
      "displayName": "Sarah Haq",
      "photoUrl": "https://lh3.googleusercontent.com/a-/AOh14Gh7vs3P5_F3LYi7bEV8r1vbltDxEgpoYXmxHgxGBw=s64",
      "userId": "16294508270436203551"
     },
     "user_tz": -60
    },
    "id": "_DWpTLxuBrNQ",
    "outputId": "1ed3ad8e-ec86-4ec0-e96c-9138638b4b91"
   },
   "outputs": [
    {
     "data": {
      "text/html": [
       "<div>\n",
       "<style scoped>\n",
       "    .dataframe tbody tr th:only-of-type {\n",
       "        vertical-align: middle;\n",
       "    }\n",
       "\n",
       "    .dataframe tbody tr th {\n",
       "        vertical-align: top;\n",
       "    }\n",
       "\n",
       "    .dataframe thead th {\n",
       "        text-align: right;\n",
       "    }\n",
       "</style>\n",
       "<table border=\"1\" class=\"dataframe\">\n",
       "  <thead>\n",
       "    <tr style=\"text-align: right;\">\n",
       "      <th></th>\n",
       "      <th>user_id</th>\n",
       "      <th>Consumer complaint narrative</th>\n",
       "    </tr>\n",
       "  </thead>\n",
       "  <tbody>\n",
       "    <tr>\n",
       "      <th>53</th>\n",
       "      <td>1a1448a4-bfe5-455f-bc29-dc79ec5fb2c0</td>\n",
       "      <td>NONE OF YOUR \" MY LOAN IS A '' below apply to ...</td>\n",
       "    </tr>\n",
       "    <tr>\n",
       "      <th>59</th>\n",
       "      <td>5fede48c-096e-4f82-997d-8229007d8318</td>\n",
       "      <td>XX/XX/2014 I received a letter from the IRS st...</td>\n",
       "    </tr>\n",
       "    <tr>\n",
       "      <th>65</th>\n",
       "      <td>fd9fc5ff-19bc-424c-880e-c159c110d21f</td>\n",
       "      <td>This was a revolving account in which I paid W...</td>\n",
       "    </tr>\n",
       "  </tbody>\n",
       "</table>\n",
       "</div>"
      ],
      "text/plain": [
       "                                 user_id  \\\n",
       "53  1a1448a4-bfe5-455f-bc29-dc79ec5fb2c0   \n",
       "59  5fede48c-096e-4f82-997d-8229007d8318   \n",
       "65  fd9fc5ff-19bc-424c-880e-c159c110d21f   \n",
       "\n",
       "                         Consumer complaint narrative  \n",
       "53  NONE OF YOUR \" MY LOAN IS A '' below apply to ...  \n",
       "59  XX/XX/2014 I received a letter from the IRS st...  \n",
       "65  This was a revolving account in which I paid W...  "
      ]
     },
     "execution_count": 8,
     "metadata": {},
     "output_type": "execute_result"
    }
   ],
   "source": [
    "# Remove records with missing complaint narratives.\n",
    "\n",
    "text_data = complaints_data[~complaints_data \\\n",
    "                            ['Consumer complaint narrative'].isnull()] \\\n",
    "                           [['user_id', 'Consumer complaint narrative']]\n",
    "\n",
    "text_data.head(n = 3)"
   ]
  },
  {
   "cell_type": "code",
   "execution_count": 9,
   "metadata": {
    "colab": {
     "base_uri": "https://localhost:8080/"
    },
    "executionInfo": {
     "elapsed": 422,
     "status": "ok",
     "timestamp": 1616418582108,
     "user": {
      "displayName": "Sarah Haq",
      "photoUrl": "https://lh3.googleusercontent.com/a-/AOh14Gh7vs3P5_F3LYi7bEV8r1vbltDxEgpoYXmxHgxGBw=s64",
      "userId": "16294508270436203551"
     },
     "user_tz": -60
    },
    "id": "H_32HD_VDRYq",
    "outputId": "c91a56e0-2427-4f9d-dd38-161dc64bd0b3"
   },
   "outputs": [
    {
     "data": {
      "text/plain": [
       "(44, 2)"
      ]
     },
     "execution_count": 9,
     "metadata": {},
     "output_type": "execute_result"
    }
   ],
   "source": [
    "text_data.shape"
   ]
  },
  {
   "cell_type": "markdown",
   "metadata": {},
   "source": [
    "# Preview an example of the consumer complaints"
   ]
  },
  {
   "cell_type": "code",
   "execution_count": 10,
   "metadata": {
    "colab": {
     "base_uri": "https://localhost:8080/",
     "height": 120
    },
    "executionInfo": {
     "elapsed": 582,
     "status": "ok",
     "timestamp": 1616418582878,
     "user": {
      "displayName": "Sarah Haq",
      "photoUrl": "https://lh3.googleusercontent.com/a-/AOh14Gh7vs3P5_F3LYi7bEV8r1vbltDxEgpoYXmxHgxGBw=s64",
      "userId": "16294508270436203551"
     },
     "user_tz": -60
    },
    "id": "F_DOlgM4BHx-",
    "outputId": "3faeb965-cf48-4b29-f004-71936e7b98db"
   },
   "outputs": [
    {
     "data": {
      "text/plain": [
       "'NONE OF YOUR \" MY LOAN IS A \\'\\' below apply to this situation! This was a car loan but the company is providing fraudulent information this is damaging my credit! \\n\\nRE : MidAtlantic Finance Company Account No. XXXX - NOT TO BE CONFUSED with my current MAF loan MidAtlantic Finance Company has reported several false items to all XXXX credit reporting agencies, and continues to do so. It is damaging my credit so much so that I was told I did n\\'t qualify for a mortgage. \\n\\nMost recently, I settled this account per agreement on XXXX XXXX, XXXX, yet MAF reported it is a payment on the amount claimed owed ( which has been disputed since XXXX XXXX ). But that is just the most recent false information that was reported. It is showing a debt of {$250.00} per month along with XXXX different amounts charged off of the {$950.00} ( plus interest ) and another {$5100.00} that INCLUDES the {$950.00}. Please refer to the following as I NEVER owed MAF {$8100.00} as it reported. That was the original amount financed in XXXX XXXX with XXXX XXXX, and I made payments of {$250.00} a month through XXXX XXXX to XXXX XXXX. \\n1 ) Car was purchased in XXXX XXXX and was financed IN HOUSE until XXXX XXXX per MAF \\'s statement of XXXX XXXX, XXXX, with my first payment being due to MAF XXXX XXXX. Therefore, I was not responsible for any prior late payments ( MAF recorded my first delinquency as XXXX XXXX ) and that should never have been on my credit report. I do not know why or HOW it can be considered owned by MAF since XXXX XXXX. \\n2 ) There was NEVER a charge-off of {$5100.00} for the following reasons : a. Car was totaled XXXX XXXX, XXXX. I paid the {$250.00} XXXX payment plus additional interest fees on XXXX XXXX, XXXX. The insurance company paid {$4200.00} on XXXX XXXX, XXXX, leaving a balance per MAF of {$950.00} ( disputed since XXXX XXXX ) ; b. I was given a payoff in XXXX XXXX of {$5200.00}, with no expiration date, so I disputed the {$950.00} for 18 months before giving up. Finally, MAF sent me the accounting in XXXX XXXX, which supports my claim of payments made and wrongfully charged-off amounts. \\n3 ) On XXXX XXXX, XXXX, this account was PAID IN FULL per MAF \\'s own letter dated XXXX XXXX, XXXX, yet MAF did not comply with the verbal agreement with its representative XXXX XXXX to remove negative credit AND it applied the {$500.00} as a payment toward the ( disputed ) balance owed rather than showing Paid in Full. \\nThe included supporting documents are as follows in a single PDF and numbered accordingly : 1 ) MAF - Accounting XXXX XXXX - received from MAF in XXXX XXXX - all writing on the page is by someone at MAF. This is a scan of exactly what I received. I was unaware that XXXX allegedly had my account prior to XXXX XXXX as all payments were made directly to the car dealership prior to XXXX XXXX. MAF accounting shows only {$950.00} ( disputed ) owed as of XXXX XXXX, XXXX. \\n2 ) MAF - Payoff XXXX XXXX XXXX - Receipts showing XXXX was sent to MAF on XXXX XXXX, XXXX prior to payoff deadline of XXXX XXXX, XXXX, for the agreed amount of {$500.00}. Also sticky note from conversation on XXXX XXXX, XXXX, with XXXX XXXX prior to making XXXX payment later that day. \\n3 ) MAF - XXXX XXXX XXXX XXXX - Screenshot of email from XXXX XXXX TWELVE days after payoff with the agreement referenced below attached that she said she previously was remiss in sending. By then MAF had my payment of {$500.00} since XXXX XXXX and 9 days past the deadline. \\n4 ) MAF - Agreement XX/XX/XXXX - Agreement clearly stating that if the {$500.00} was paid by XXXX XXXX, XXXX, my account would be considered \" settlement of the account \\'\\' yet MAF has reported it as a PAYMENT.'"
      ]
     },
     "execution_count": 10,
     "metadata": {},
     "output_type": "execute_result"
    }
   ],
   "source": [
    "sample_text = text_data['Consumer complaint narrative'].iloc[0]\n",
    "sample_text\n"
   ]
  },
  {
   "cell_type": "markdown",
   "metadata": {
    "id": "9LASEoL9-wGf"
   },
   "source": [
    "# Tokenize the sample text into sentences"
   ]
  },
  {
   "cell_type": "code",
   "execution_count": 11,
   "metadata": {
    "executionInfo": {
     "elapsed": 2708,
     "status": "ok",
     "timestamp": 1616418588768,
     "user": {
      "displayName": "Sarah Haq",
      "photoUrl": "https://lh3.googleusercontent.com/a-/AOh14Gh7vs3P5_F3LYi7bEV8r1vbltDxEgpoYXmxHgxGBw=s64",
      "userId": "16294508270436203551"
     },
     "user_tz": -60
    },
    "id": "NZXsCz-TDqLI"
   },
   "outputs": [],
   "source": [
    "nlp = spacy.load('/home/jovyan/work/spacy_data/' +\n",
    "                 'en_core_web_sm/en_core_web_sm-3.0.0/')\n",
    "\n",
    "document = nlp(sample_text)"
   ]
  },
  {
   "cell_type": "code",
   "execution_count": 12,
   "metadata": {
    "colab": {
     "base_uri": "https://localhost:8080/"
    },
    "executionInfo": {
     "elapsed": 2172,
     "status": "ok",
     "timestamp": 1616418588771,
     "user": {
      "displayName": "Sarah Haq",
      "photoUrl": "https://lh3.googleusercontent.com/a-/AOh14Gh7vs3P5_F3LYi7bEV8r1vbltDxEgpoYXmxHgxGBw=s64",
      "userId": "16294508270436203551"
     },
     "user_tz": -60
    },
    "id": "Z9GuiYHLHqG8",
    "outputId": "87ea676a-9aa0-4159-f8e6-d48c5cf0a148"
   },
   "outputs": [
    {
     "name": "stdout",
     "output_type": "stream",
     "text": [
      "NONE OF YOUR \" MY LOAN IS A '' below apply to this situation!\n",
      "This was a car loan but the company is providing fraudulent information this is damaging my credit!\n",
      "\n",
      "\n",
      "RE : MidAtlantic Finance Company Account\n",
      "No.\n",
      "XXXX - NOT TO BE CONFUSED with my current MAF loan MidAtlantic Finance Company has reported several false items to all XXXX credit reporting agencies, and continues to do so.\n",
      "It is damaging my credit so much so that I was told I did n't qualify for a mortgage.\n",
      "\n",
      "\n",
      "Most recently, I settled this account per agreement on XXXX XXXX, XXXX, yet MAF reported it is a payment on the amount claimed owed ( which has been disputed since XXXX XXXX ).\n",
      "But that is just the most recent false information that was reported.\n",
      "It is showing a debt of {$250.00} per month along with XXXX different amounts charged off of the {$950.00} ( plus interest ) and another {$5100.00} that INCLUDES the {$950.00}.\n",
      "Please refer to the following as I NEVER owed MAF {$8100.00} as it reported.\n",
      "That was the original amount financed in XXXX XXXX with XXXX XXXX, and I made payments of {$250.00} a month through XXXX XXXX to XXXX XXXX.\n",
      "\n",
      "1 ) Car was purchased in XXXX XXXX and was financed IN HOUSE until XXXX XXXX per MAF 's statement of XXXX XXXX, XXXX, with my first payment being due to MAF XXXX XXXX.\n",
      "Therefore, I was not responsible for any prior late payments ( MAF recorded my first delinquency as XXXX XXXX ) and that should never have been on my credit report.\n",
      "I do not know why or HOW it can be considered owned by MAF since XXXX XXXX.\n",
      "\n",
      "2 ) There was NEVER a charge-off of {$5100.00} for the following reasons : a. Car was totaled XXXX XXXX, XXXX.\n",
      "I paid the {$250.00} XXXX payment plus additional interest fees on XXXX XXXX, XXXX.\n",
      "The insurance company paid {$4200.00} on XXXX XXXX, XXXX, leaving a balance per MAF of {$950.00} ( disputed since XXXX XXXX ) ;\n",
      "b. I was given a payoff in XXXX XXXX of {$5200.00}, with no expiration date, so I disputed the {$950.00} for 18 months before giving up.\n",
      "Finally, MAF sent me the accounting in XXXX XXXX, which supports my claim of payments made and wrongfully charged-off amounts.\n",
      "\n",
      "\n",
      "3 ) On XXXX XXXX, XXXX, this account was PAID IN FULL per MAF 's own letter dated XXXX XXXX, XXXX, yet MAF did not comply with the verbal agreement with its representative XXXX XXXX to remove negative credit AND it applied the {$500.00} as a payment toward the ( disputed ) balance owed rather than showing Paid in Full. \n",
      "\n",
      "The included supporting documents are as follows in a single PDF and numbered accordingly : 1 ) MAF - Accounting XXXX XXXX - received from MAF in XXXX XXXX - all writing on the page is by someone at MAF.\n",
      "This is a scan of exactly what I received.\n",
      "I was unaware that XXXX allegedly had my account prior to XXXX XXXX as all payments were made directly to the car dealership prior to XXXX XXXX.\n",
      "MAF accounting shows only {$950.00} ( disputed ) owed as of XXXX XXXX, XXXX.\n",
      "\n",
      "2 ) MAF - Payoff XXXX XXXX XXXX - Receipts showing XXXX was sent to MAF on XXXX XXXX, XXXX prior to payoff deadline of XXXX XXXX, XXXX, for the agreed amount of {$500.00}.\n",
      "Also sticky note from conversation on XXXX XXXX, XXXX, with XXXX XXXX prior to making XXXX payment later that day.\n",
      "\n",
      "\n",
      "3 )\n",
      "MAF - XXXX XXXX XXXX XXXX - Screenshot of email from XXXX XXXX TWELVE days after payoff with the agreement referenced below attached that she said she previously was remiss in sending.\n",
      "By then MAF had my payment of {$500.00} since XXXX XXXX and 9 days past the deadline.\n",
      "\n",
      "\n",
      "4 ) MAF - Agreement XX/XX/XXXX - Agreement clearly stating that if the {$500.00} was paid by XXXX XXXX, XXXX, my account would be considered \" settlement of the account '' yet MAF has reported it as a PAYMENT.\n"
     ]
    }
   ],
   "source": [
    "for sentence in document.sents:\n",
    "    print(sentence)\n"
   ]
  },
  {
   "cell_type": "markdown",
   "metadata": {
    "id": "wpEMT7_lGWsw"
   },
   "source": [
    "# Tokenize the sentences into words"
   ]
  },
  {
   "cell_type": "code",
   "execution_count": null,
   "metadata": {
    "executionInfo": {
     "elapsed": 1840,
     "status": "ok",
     "timestamp": 1616418588772,
     "user": {
      "displayName": "Sarah Haq",
      "photoUrl": "https://lh3.googleusercontent.com/a-/AOh14Gh7vs3P5_F3LYi7bEV8r1vbltDxEgpoYXmxHgxGBw=s64",
      "userId": "16294508270436203551"
     },
     "user_tz": -60
    },
    "id": "YIK45SjhFrRL"
   },
   "outputs": [],
   "source": [
    "sentence = nlp('It is showing a debt of {$250.00} per month along ' \\\n",
    "               'with XXXX different amounts charged off of the ' \\\n",
    "               '{$950.00} ( plus interest ) and another {$5100.00} ' \\\n",
    "               'that INCLUDES the {$950.00}.')"
   ]
  },
  {
   "cell_type": "code",
   "execution_count": 13,
   "metadata": {
    "colab": {
     "base_uri": "https://localhost:8080/"
    },
    "executionInfo": {
     "elapsed": 1652,
     "status": "ok",
     "timestamp": 1616418588772,
     "user": {
      "displayName": "Sarah Haq",
      "photoUrl": "https://lh3.googleusercontent.com/a-/AOh14Gh7vs3P5_F3LYi7bEV8r1vbltDxEgpoYXmxHgxGBw=s64",
      "userId": "16294508270436203551"
     },
     "user_tz": -60
    },
    "id": "3-XvsZH6FvhY",
    "outputId": "6d3deac1-c0ba-4c89-816e-42abe96ce9fe"
   },
   "outputs": [
    {
     "name": "stdout",
     "output_type": "stream",
     "text": [
      "4\n",
      ")\n",
      "MAF\n",
      "-\n",
      "Agreement\n",
      "XX\n",
      "/\n",
      "XX\n",
      "/\n",
      "XXXX\n",
      "-\n",
      "Agreement\n",
      "clearly\n",
      "stating\n",
      "that\n",
      "if\n",
      "the\n",
      "{\n",
      "$\n",
      "500.00\n",
      "}\n",
      "was\n",
      "paid\n",
      "by\n",
      "XXXX\n",
      "XXXX\n",
      ",\n",
      "XXXX\n",
      ",\n",
      "my\n",
      "account\n",
      "would\n",
      "be\n",
      "considered\n",
      "\"\n",
      "settlement\n",
      "of\n",
      "the\n",
      "account\n",
      "''\n",
      "yet\n",
      "MAF\n",
      "has\n",
      "reported\n",
      "it\n",
      "as\n",
      "a\n",
      "PAYMENT\n",
      ".\n"
     ]
    }
   ],
   "source": [
    "for token in sentence:\n",
    "    print(token.text)\n"
   ]
  },
  {
   "cell_type": "markdown",
   "metadata": {
    "id": "blVmtLzWGYNm"
   },
   "source": [
    "# Identify the parts of speech for each token"
   ]
  },
  {
   "cell_type": "code",
   "execution_count": 14,
   "metadata": {
    "colab": {
     "base_uri": "https://localhost:8080/",
     "height": 1000
    },
    "executionInfo": {
     "elapsed": 743,
     "status": "ok",
     "timestamp": 1616418589067,
     "user": {
      "displayName": "Sarah Haq",
      "photoUrl": "https://lh3.googleusercontent.com/a-/AOh14Gh7vs3P5_F3LYi7bEV8r1vbltDxEgpoYXmxHgxGBw=s64",
      "userId": "16294508270436203551"
     },
     "user_tz": -60
    },
    "id": "DLW8Kad8GyAy",
    "outputId": "dea86c4d-152c-4a70-e15f-8fb211a90258"
   },
   "outputs": [
    {
     "data": {
      "text/html": [
       "<div>\n",
       "<style scoped>\n",
       "    .dataframe tbody tr th:only-of-type {\n",
       "        vertical-align: middle;\n",
       "    }\n",
       "\n",
       "    .dataframe tbody tr th {\n",
       "        vertical-align: top;\n",
       "    }\n",
       "\n",
       "    .dataframe thead th {\n",
       "        text-align: right;\n",
       "    }\n",
       "</style>\n",
       "<table border=\"1\" class=\"dataframe\">\n",
       "  <thead>\n",
       "    <tr style=\"text-align: right;\">\n",
       "      <th></th>\n",
       "      <th>Word</th>\n",
       "      <th>Part of Speech</th>\n",
       "    </tr>\n",
       "  </thead>\n",
       "  <tbody>\n",
       "    <tr>\n",
       "      <th>0</th>\n",
       "      <td>4</td>\n",
       "      <td>NUM</td>\n",
       "    </tr>\n",
       "    <tr>\n",
       "      <th>1</th>\n",
       "      <td>)</td>\n",
       "      <td>PUNCT</td>\n",
       "    </tr>\n",
       "    <tr>\n",
       "      <th>2</th>\n",
       "      <td>MAF</td>\n",
       "      <td>PROPN</td>\n",
       "    </tr>\n",
       "    <tr>\n",
       "      <th>3</th>\n",
       "      <td>-</td>\n",
       "      <td>PUNCT</td>\n",
       "    </tr>\n",
       "    <tr>\n",
       "      <th>4</th>\n",
       "      <td>Agreement</td>\n",
       "      <td>PROPN</td>\n",
       "    </tr>\n",
       "    <tr>\n",
       "      <th>5</th>\n",
       "      <td>XX</td>\n",
       "      <td>PROPN</td>\n",
       "    </tr>\n",
       "    <tr>\n",
       "      <th>6</th>\n",
       "      <td>/</td>\n",
       "      <td>SYM</td>\n",
       "    </tr>\n",
       "    <tr>\n",
       "      <th>7</th>\n",
       "      <td>XX</td>\n",
       "      <td>PROPN</td>\n",
       "    </tr>\n",
       "    <tr>\n",
       "      <th>8</th>\n",
       "      <td>/</td>\n",
       "      <td>SYM</td>\n",
       "    </tr>\n",
       "    <tr>\n",
       "      <th>9</th>\n",
       "      <td>XXXX</td>\n",
       "      <td>PROPN</td>\n",
       "    </tr>\n",
       "    <tr>\n",
       "      <th>10</th>\n",
       "      <td>-</td>\n",
       "      <td>PUNCT</td>\n",
       "    </tr>\n",
       "    <tr>\n",
       "      <th>11</th>\n",
       "      <td>Agreement</td>\n",
       "      <td>PROPN</td>\n",
       "    </tr>\n",
       "    <tr>\n",
       "      <th>12</th>\n",
       "      <td>clearly</td>\n",
       "      <td>ADV</td>\n",
       "    </tr>\n",
       "    <tr>\n",
       "      <th>13</th>\n",
       "      <td>stating</td>\n",
       "      <td>VERB</td>\n",
       "    </tr>\n",
       "    <tr>\n",
       "      <th>14</th>\n",
       "      <td>that</td>\n",
       "      <td>SCONJ</td>\n",
       "    </tr>\n",
       "    <tr>\n",
       "      <th>15</th>\n",
       "      <td>if</td>\n",
       "      <td>SCONJ</td>\n",
       "    </tr>\n",
       "    <tr>\n",
       "      <th>16</th>\n",
       "      <td>the</td>\n",
       "      <td>DET</td>\n",
       "    </tr>\n",
       "    <tr>\n",
       "      <th>17</th>\n",
       "      <td>{</td>\n",
       "      <td>PUNCT</td>\n",
       "    </tr>\n",
       "    <tr>\n",
       "      <th>18</th>\n",
       "      <td>$</td>\n",
       "      <td>SYM</td>\n",
       "    </tr>\n",
       "    <tr>\n",
       "      <th>19</th>\n",
       "      <td>500.00</td>\n",
       "      <td>NUM</td>\n",
       "    </tr>\n",
       "    <tr>\n",
       "      <th>20</th>\n",
       "      <td>}</td>\n",
       "      <td>PUNCT</td>\n",
       "    </tr>\n",
       "    <tr>\n",
       "      <th>21</th>\n",
       "      <td>was</td>\n",
       "      <td>AUX</td>\n",
       "    </tr>\n",
       "    <tr>\n",
       "      <th>22</th>\n",
       "      <td>paid</td>\n",
       "      <td>VERB</td>\n",
       "    </tr>\n",
       "    <tr>\n",
       "      <th>23</th>\n",
       "      <td>by</td>\n",
       "      <td>ADP</td>\n",
       "    </tr>\n",
       "    <tr>\n",
       "      <th>24</th>\n",
       "      <td>XXXX</td>\n",
       "      <td>PROPN</td>\n",
       "    </tr>\n",
       "    <tr>\n",
       "      <th>25</th>\n",
       "      <td>XXXX</td>\n",
       "      <td>PROPN</td>\n",
       "    </tr>\n",
       "    <tr>\n",
       "      <th>26</th>\n",
       "      <td>,</td>\n",
       "      <td>PUNCT</td>\n",
       "    </tr>\n",
       "    <tr>\n",
       "      <th>27</th>\n",
       "      <td>XXXX</td>\n",
       "      <td>PROPN</td>\n",
       "    </tr>\n",
       "    <tr>\n",
       "      <th>28</th>\n",
       "      <td>,</td>\n",
       "      <td>PUNCT</td>\n",
       "    </tr>\n",
       "    <tr>\n",
       "      <th>29</th>\n",
       "      <td>my</td>\n",
       "      <td>PRON</td>\n",
       "    </tr>\n",
       "    <tr>\n",
       "      <th>30</th>\n",
       "      <td>account</td>\n",
       "      <td>NOUN</td>\n",
       "    </tr>\n",
       "    <tr>\n",
       "      <th>31</th>\n",
       "      <td>would</td>\n",
       "      <td>AUX</td>\n",
       "    </tr>\n",
       "    <tr>\n",
       "      <th>32</th>\n",
       "      <td>be</td>\n",
       "      <td>AUX</td>\n",
       "    </tr>\n",
       "    <tr>\n",
       "      <th>33</th>\n",
       "      <td>considered</td>\n",
       "      <td>VERB</td>\n",
       "    </tr>\n",
       "    <tr>\n",
       "      <th>34</th>\n",
       "      <td>\"</td>\n",
       "      <td>PUNCT</td>\n",
       "    </tr>\n",
       "    <tr>\n",
       "      <th>35</th>\n",
       "      <td>settlement</td>\n",
       "      <td>NOUN</td>\n",
       "    </tr>\n",
       "    <tr>\n",
       "      <th>36</th>\n",
       "      <td>of</td>\n",
       "      <td>ADP</td>\n",
       "    </tr>\n",
       "    <tr>\n",
       "      <th>37</th>\n",
       "      <td>the</td>\n",
       "      <td>DET</td>\n",
       "    </tr>\n",
       "    <tr>\n",
       "      <th>38</th>\n",
       "      <td>account</td>\n",
       "      <td>NOUN</td>\n",
       "    </tr>\n",
       "    <tr>\n",
       "      <th>39</th>\n",
       "      <td>''</td>\n",
       "      <td>PUNCT</td>\n",
       "    </tr>\n",
       "    <tr>\n",
       "      <th>40</th>\n",
       "      <td>yet</td>\n",
       "      <td>ADV</td>\n",
       "    </tr>\n",
       "    <tr>\n",
       "      <th>41</th>\n",
       "      <td>MAF</td>\n",
       "      <td>PROPN</td>\n",
       "    </tr>\n",
       "    <tr>\n",
       "      <th>42</th>\n",
       "      <td>has</td>\n",
       "      <td>AUX</td>\n",
       "    </tr>\n",
       "    <tr>\n",
       "      <th>43</th>\n",
       "      <td>reported</td>\n",
       "      <td>VERB</td>\n",
       "    </tr>\n",
       "    <tr>\n",
       "      <th>44</th>\n",
       "      <td>it</td>\n",
       "      <td>PRON</td>\n",
       "    </tr>\n",
       "    <tr>\n",
       "      <th>45</th>\n",
       "      <td>as</td>\n",
       "      <td>ADP</td>\n",
       "    </tr>\n",
       "    <tr>\n",
       "      <th>46</th>\n",
       "      <td>a</td>\n",
       "      <td>DET</td>\n",
       "    </tr>\n",
       "    <tr>\n",
       "      <th>47</th>\n",
       "      <td>PAYMENT</td>\n",
       "      <td>NOUN</td>\n",
       "    </tr>\n",
       "    <tr>\n",
       "      <th>48</th>\n",
       "      <td>.</td>\n",
       "      <td>PUNCT</td>\n",
       "    </tr>\n",
       "  </tbody>\n",
       "</table>\n",
       "</div>"
      ],
      "text/plain": [
       "          Word Part of Speech\n",
       "0            4            NUM\n",
       "1            )          PUNCT\n",
       "2          MAF          PROPN\n",
       "3            -          PUNCT\n",
       "4    Agreement          PROPN\n",
       "5           XX          PROPN\n",
       "6            /            SYM\n",
       "7           XX          PROPN\n",
       "8            /            SYM\n",
       "9         XXXX          PROPN\n",
       "10           -          PUNCT\n",
       "11   Agreement          PROPN\n",
       "12     clearly            ADV\n",
       "13     stating           VERB\n",
       "14        that          SCONJ\n",
       "15          if          SCONJ\n",
       "16         the            DET\n",
       "17           {          PUNCT\n",
       "18           $            SYM\n",
       "19      500.00            NUM\n",
       "20           }          PUNCT\n",
       "21         was            AUX\n",
       "22        paid           VERB\n",
       "23          by            ADP\n",
       "24        XXXX          PROPN\n",
       "25        XXXX          PROPN\n",
       "26           ,          PUNCT\n",
       "27        XXXX          PROPN\n",
       "28           ,          PUNCT\n",
       "29          my           PRON\n",
       "30     account           NOUN\n",
       "31       would            AUX\n",
       "32          be            AUX\n",
       "33  considered           VERB\n",
       "34           \"          PUNCT\n",
       "35  settlement           NOUN\n",
       "36          of            ADP\n",
       "37         the            DET\n",
       "38     account           NOUN\n",
       "39          ''          PUNCT\n",
       "40         yet            ADV\n",
       "41         MAF          PROPN\n",
       "42         has            AUX\n",
       "43    reported           VERB\n",
       "44          it           PRON\n",
       "45          as            ADP\n",
       "46           a            DET\n",
       "47     PAYMENT           NOUN\n",
       "48           .          PUNCT"
      ]
     },
     "execution_count": 14,
     "metadata": {},
     "output_type": "execute_result"
    }
   ],
   "source": [
    "pos = []\n",
    "\n",
    "for token in sentence:\n",
    "    pos.append({'Word': token,\n",
    "                'Part of Speech': token.pos_\n",
    "               })\n",
    "\n",
    "pd.DataFrame(pos)\n",
    "\n",
    "\n",
    "\n",
    "\n",
    "\n",
    "\n"
   ]
  },
  {
   "cell_type": "markdown",
   "metadata": {
    "id": "gHzaSp1e_O7F"
   },
   "source": [
    "# Identify stop words"
   ]
  },
  {
   "cell_type": "code",
   "execution_count": 16,
   "metadata": {},
   "outputs": [
    {
     "data": {
      "text/html": [
       "<div>\n",
       "<style scoped>\n",
       "    .dataframe tbody tr th:only-of-type {\n",
       "        vertical-align: middle;\n",
       "    }\n",
       "\n",
       "    .dataframe tbody tr th {\n",
       "        vertical-align: top;\n",
       "    }\n",
       "\n",
       "    .dataframe thead th {\n",
       "        text-align: right;\n",
       "    }\n",
       "</style>\n",
       "<table border=\"1\" class=\"dataframe\">\n",
       "  <thead>\n",
       "    <tr style=\"text-align: right;\">\n",
       "      <th></th>\n",
       "      <th>Word</th>\n",
       "      <th>Stop Word?</th>\n",
       "    </tr>\n",
       "  </thead>\n",
       "  <tbody>\n",
       "    <tr>\n",
       "      <th>0</th>\n",
       "      <td>4</td>\n",
       "      <td>False</td>\n",
       "    </tr>\n",
       "    <tr>\n",
       "      <th>1</th>\n",
       "      <td>)</td>\n",
       "      <td>False</td>\n",
       "    </tr>\n",
       "    <tr>\n",
       "      <th>2</th>\n",
       "      <td>MAF</td>\n",
       "      <td>False</td>\n",
       "    </tr>\n",
       "    <tr>\n",
       "      <th>3</th>\n",
       "      <td>-</td>\n",
       "      <td>False</td>\n",
       "    </tr>\n",
       "    <tr>\n",
       "      <th>4</th>\n",
       "      <td>Agreement</td>\n",
       "      <td>False</td>\n",
       "    </tr>\n",
       "    <tr>\n",
       "      <th>5</th>\n",
       "      <td>XX</td>\n",
       "      <td>False</td>\n",
       "    </tr>\n",
       "    <tr>\n",
       "      <th>6</th>\n",
       "      <td>/</td>\n",
       "      <td>False</td>\n",
       "    </tr>\n",
       "    <tr>\n",
       "      <th>7</th>\n",
       "      <td>XX</td>\n",
       "      <td>False</td>\n",
       "    </tr>\n",
       "    <tr>\n",
       "      <th>8</th>\n",
       "      <td>/</td>\n",
       "      <td>False</td>\n",
       "    </tr>\n",
       "    <tr>\n",
       "      <th>9</th>\n",
       "      <td>XXXX</td>\n",
       "      <td>False</td>\n",
       "    </tr>\n",
       "    <tr>\n",
       "      <th>10</th>\n",
       "      <td>-</td>\n",
       "      <td>False</td>\n",
       "    </tr>\n",
       "    <tr>\n",
       "      <th>11</th>\n",
       "      <td>Agreement</td>\n",
       "      <td>False</td>\n",
       "    </tr>\n",
       "    <tr>\n",
       "      <th>12</th>\n",
       "      <td>clearly</td>\n",
       "      <td>False</td>\n",
       "    </tr>\n",
       "    <tr>\n",
       "      <th>13</th>\n",
       "      <td>stating</td>\n",
       "      <td>False</td>\n",
       "    </tr>\n",
       "    <tr>\n",
       "      <th>14</th>\n",
       "      <td>that</td>\n",
       "      <td>True</td>\n",
       "    </tr>\n",
       "    <tr>\n",
       "      <th>15</th>\n",
       "      <td>if</td>\n",
       "      <td>True</td>\n",
       "    </tr>\n",
       "    <tr>\n",
       "      <th>16</th>\n",
       "      <td>the</td>\n",
       "      <td>True</td>\n",
       "    </tr>\n",
       "    <tr>\n",
       "      <th>17</th>\n",
       "      <td>{</td>\n",
       "      <td>False</td>\n",
       "    </tr>\n",
       "    <tr>\n",
       "      <th>18</th>\n",
       "      <td>$</td>\n",
       "      <td>False</td>\n",
       "    </tr>\n",
       "    <tr>\n",
       "      <th>19</th>\n",
       "      <td>500.00</td>\n",
       "      <td>False</td>\n",
       "    </tr>\n",
       "    <tr>\n",
       "      <th>20</th>\n",
       "      <td>}</td>\n",
       "      <td>False</td>\n",
       "    </tr>\n",
       "    <tr>\n",
       "      <th>21</th>\n",
       "      <td>was</td>\n",
       "      <td>True</td>\n",
       "    </tr>\n",
       "    <tr>\n",
       "      <th>22</th>\n",
       "      <td>paid</td>\n",
       "      <td>False</td>\n",
       "    </tr>\n",
       "    <tr>\n",
       "      <th>23</th>\n",
       "      <td>by</td>\n",
       "      <td>True</td>\n",
       "    </tr>\n",
       "    <tr>\n",
       "      <th>24</th>\n",
       "      <td>XXXX</td>\n",
       "      <td>False</td>\n",
       "    </tr>\n",
       "    <tr>\n",
       "      <th>25</th>\n",
       "      <td>XXXX</td>\n",
       "      <td>False</td>\n",
       "    </tr>\n",
       "    <tr>\n",
       "      <th>26</th>\n",
       "      <td>,</td>\n",
       "      <td>False</td>\n",
       "    </tr>\n",
       "    <tr>\n",
       "      <th>27</th>\n",
       "      <td>XXXX</td>\n",
       "      <td>False</td>\n",
       "    </tr>\n",
       "    <tr>\n",
       "      <th>28</th>\n",
       "      <td>,</td>\n",
       "      <td>False</td>\n",
       "    </tr>\n",
       "    <tr>\n",
       "      <th>29</th>\n",
       "      <td>my</td>\n",
       "      <td>True</td>\n",
       "    </tr>\n",
       "    <tr>\n",
       "      <th>30</th>\n",
       "      <td>account</td>\n",
       "      <td>False</td>\n",
       "    </tr>\n",
       "    <tr>\n",
       "      <th>31</th>\n",
       "      <td>would</td>\n",
       "      <td>True</td>\n",
       "    </tr>\n",
       "    <tr>\n",
       "      <th>32</th>\n",
       "      <td>be</td>\n",
       "      <td>True</td>\n",
       "    </tr>\n",
       "    <tr>\n",
       "      <th>33</th>\n",
       "      <td>considered</td>\n",
       "      <td>False</td>\n",
       "    </tr>\n",
       "    <tr>\n",
       "      <th>34</th>\n",
       "      <td>\"</td>\n",
       "      <td>False</td>\n",
       "    </tr>\n",
       "    <tr>\n",
       "      <th>35</th>\n",
       "      <td>settlement</td>\n",
       "      <td>False</td>\n",
       "    </tr>\n",
       "    <tr>\n",
       "      <th>36</th>\n",
       "      <td>of</td>\n",
       "      <td>True</td>\n",
       "    </tr>\n",
       "    <tr>\n",
       "      <th>37</th>\n",
       "      <td>the</td>\n",
       "      <td>True</td>\n",
       "    </tr>\n",
       "    <tr>\n",
       "      <th>38</th>\n",
       "      <td>account</td>\n",
       "      <td>False</td>\n",
       "    </tr>\n",
       "    <tr>\n",
       "      <th>39</th>\n",
       "      <td>''</td>\n",
       "      <td>False</td>\n",
       "    </tr>\n",
       "    <tr>\n",
       "      <th>40</th>\n",
       "      <td>yet</td>\n",
       "      <td>True</td>\n",
       "    </tr>\n",
       "    <tr>\n",
       "      <th>41</th>\n",
       "      <td>MAF</td>\n",
       "      <td>False</td>\n",
       "    </tr>\n",
       "    <tr>\n",
       "      <th>42</th>\n",
       "      <td>has</td>\n",
       "      <td>True</td>\n",
       "    </tr>\n",
       "    <tr>\n",
       "      <th>43</th>\n",
       "      <td>reported</td>\n",
       "      <td>False</td>\n",
       "    </tr>\n",
       "    <tr>\n",
       "      <th>44</th>\n",
       "      <td>it</td>\n",
       "      <td>True</td>\n",
       "    </tr>\n",
       "    <tr>\n",
       "      <th>45</th>\n",
       "      <td>as</td>\n",
       "      <td>True</td>\n",
       "    </tr>\n",
       "    <tr>\n",
       "      <th>46</th>\n",
       "      <td>a</td>\n",
       "      <td>True</td>\n",
       "    </tr>\n",
       "    <tr>\n",
       "      <th>47</th>\n",
       "      <td>PAYMENT</td>\n",
       "      <td>False</td>\n",
       "    </tr>\n",
       "    <tr>\n",
       "      <th>48</th>\n",
       "      <td>.</td>\n",
       "      <td>False</td>\n",
       "    </tr>\n",
       "  </tbody>\n",
       "</table>\n",
       "</div>"
      ],
      "text/plain": [
       "          Word  Stop Word?\n",
       "0            4       False\n",
       "1            )       False\n",
       "2          MAF       False\n",
       "3            -       False\n",
       "4    Agreement       False\n",
       "5           XX       False\n",
       "6            /       False\n",
       "7           XX       False\n",
       "8            /       False\n",
       "9         XXXX       False\n",
       "10           -       False\n",
       "11   Agreement       False\n",
       "12     clearly       False\n",
       "13     stating       False\n",
       "14        that        True\n",
       "15          if        True\n",
       "16         the        True\n",
       "17           {       False\n",
       "18           $       False\n",
       "19      500.00       False\n",
       "20           }       False\n",
       "21         was        True\n",
       "22        paid       False\n",
       "23          by        True\n",
       "24        XXXX       False\n",
       "25        XXXX       False\n",
       "26           ,       False\n",
       "27        XXXX       False\n",
       "28           ,       False\n",
       "29          my        True\n",
       "30     account       False\n",
       "31       would        True\n",
       "32          be        True\n",
       "33  considered       False\n",
       "34           \"       False\n",
       "35  settlement       False\n",
       "36          of        True\n",
       "37         the        True\n",
       "38     account       False\n",
       "39          ''       False\n",
       "40         yet        True\n",
       "41         MAF       False\n",
       "42         has        True\n",
       "43    reported       False\n",
       "44          it        True\n",
       "45          as        True\n",
       "46           a        True\n",
       "47     PAYMENT       False\n",
       "48           .       False"
      ]
     },
     "execution_count": 16,
     "metadata": {},
     "output_type": "execute_result"
    }
   ],
   "source": [
    "\n",
    "\n",
    "stop = []\n",
    "\n",
    "for token in sentence:\n",
    "    stop.append({'Word': token,\n",
    "                 'Stop Word?': token.is_stop\n",
    "               })\n",
    "\n",
    "pd.DataFrame(stop)\n",
    "\n",
    "\n",
    "\n",
    "\n",
    "\n"
   ]
  },
  {
   "cell_type": "markdown",
   "metadata": {
    "id": "xqQZFdtb_JxH"
   },
   "source": [
    "# Stem the text"
   ]
  },
  {
   "cell_type": "code",
   "execution_count": 17,
   "metadata": {
    "colab": {
     "base_uri": "https://localhost:8080/"
    },
    "executionInfo": {
     "elapsed": 2166,
     "status": "ok",
     "timestamp": 1616418593927,
     "user": {
      "displayName": "Sarah Haq",
      "photoUrl": "https://lh3.googleusercontent.com/a-/AOh14Gh7vs3P5_F3LYi7bEV8r1vbltDxEgpoYXmxHgxGBw=s64",
      "userId": "16294508270436203551"
     },
     "user_tz": -60
    },
    "id": "gUHdKlzTKG_z",
    "outputId": "8bfea3fb-57fd-40ea-f84d-447349c99535"
   },
   "outputs": [
    {
     "name": "stdout",
     "output_type": "stream",
     "text": [
      "['This', 'was', 'a', 'car', 'loan', 'but', 'the', 'company', 'is', 'providing', 'fraudulent', 'information', 'this', 'is', 'damaging', 'my', 'credit', '!']\n"
     ]
    }
   ],
   "source": [
    "text = 'This was a car loan but the company is providing ' \\\n",
    "       'fraudulent information this is damaging my credit!'\n",
    "\n",
    "print(word_tokenize(text))"
   ]
  },
  {
   "cell_type": "code",
   "execution_count": 18,
   "metadata": {
    "colab": {
     "base_uri": "https://localhost:8080/"
    },
    "executionInfo": {
     "elapsed": 371,
     "status": "ok",
     "timestamp": 1616418593928,
     "user": {
      "displayName": "Sarah Haq",
      "photoUrl": "https://lh3.googleusercontent.com/a-/AOh14Gh7vs3P5_F3LYi7bEV8r1vbltDxEgpoYXmxHgxGBw=s64",
      "userId": "16294508270436203551"
     },
     "user_tz": -60
    },
    "id": "qrHWwbezK7Nq",
    "outputId": "a6fc3701-c398-4ae9-8c17-567b6418d902"
   },
   "outputs": [
    {
     "name": "stdout",
     "output_type": "stream",
     "text": [
      "This --> this\n",
      "was --> was\n",
      "a --> a\n",
      "car --> car\n",
      "loan --> loan\n",
      "but --> but\n",
      "the --> the\n",
      "company --> compani\n",
      "is --> is\n",
      "providing --> provid\n",
      "fraudulent --> fraudul\n",
      "information --> inform\n",
      "this --> this\n",
      "is --> is\n",
      "damaging --> damag\n",
      "my --> my\n",
      "credit --> credit\n",
      "! --> !\n"
     ]
    }
   ],
   "source": [
    " stemmer = SnowballStemmer(language = 'english')\n",
    "\n",
    "for token in word_tokenize(text):\n",
    "    print(token, '-->' , stemmer.stem(token))\n",
    "\n",
    "\n"
   ]
  },
  {
   "cell_type": "markdown",
   "metadata": {
    "id": "2l4gxnZo_MsR"
   },
   "source": [
    "# Lemmatize the text"
   ]
  },
  {
   "cell_type": "code",
   "execution_count": 20,
   "metadata": {
    "colab": {
     "base_uri": "https://localhost:8080/"
    },
    "executionInfo": {
     "elapsed": 645,
     "status": "ok",
     "timestamp": 1616418595626,
     "user": {
      "displayName": "Sarah Haq",
      "photoUrl": "https://lh3.googleusercontent.com/a-/AOh14Gh7vs3P5_F3LYi7bEV8r1vbltDxEgpoYXmxHgxGBw=s64",
      "userId": "16294508270436203551"
     },
     "user_tz": -60
    },
    "id": "F0x2_NGWDVQ0",
    "outputId": "35d07077-a807-4919-bda1-a80ad37bbe1a"
   },
   "outputs": [
    {
     "name": "stdout",
     "output_type": "stream",
     "text": [
      "This --> this\n",
      "was --> be\n",
      "a --> a\n",
      "car --> car\n",
      "loan --> loan\n",
      "but --> but\n",
      "the --> the\n",
      "company --> company\n",
      "is --> be\n",
      "providing --> provide\n",
      "fraudulent --> fraudulent\n",
      "information --> information\n",
      "this --> this\n",
      "is --> be\n",
      "damaging --> damage\n",
      "my --> my\n",
      "credit --> credit\n",
      "! --> !\n"
     ]
    }
   ],
   "source": [
    "parsed_text = nlp(text)\n",
    "\n",
    "for token in parsed_text:\n",
    "    print(token, '-->', token.lemma_)"
   ]
  },
  {
   "cell_type": "markdown",
   "metadata": {
    "id": "7VmGXeauMgsU"
   },
   "source": [
    "# Transform the text"
   ]
  },
  {
   "cell_type": "code",
   "execution_count": 21,
   "metadata": {
    "executionInfo": {
     "elapsed": 570,
     "status": "ok",
     "timestamp": 1616418597033,
     "user": {
      "displayName": "Sarah Haq",
      "photoUrl": "https://lh3.googleusercontent.com/a-/AOh14Gh7vs3P5_F3LYi7bEV8r1vbltDxEgpoYXmxHgxGBw=s64",
      "userId": "16294508270436203551"
     },
     "user_tz": -60
    },
    "id": "8cmvKpDwDLOG"
   },
   "outputs": [],
   "source": [
    "def spacy_cleaner(original_text):\n",
    "    \"\"\"Cleans text data to be processed.\n",
    "    Removes punctuation, whitespace, numbers, stopwords from the text\n",
    "    and lemmatizes each token.\"\"\"\n",
    "\n",
    "    final_tokens = []\n",
    "    parsed_text = nlp(original_text)\n",
    "\n",
    "    for token in parsed_text:\n",
    "        if token.is_punct or token.is_space or token.like_num or token.is_stop:\n",
    "            pass\n",
    "        else:\n",
    "            if token.lemma_ == '-PRON-':\n",
    "                final_tokens.append(str(token))  # Keep pronouns as they are.\n",
    "            else:\n",
    "                sc_removed = re.sub('[^a-zA-Z]', '', str(token.lemma_))\n",
    "                if len(sc_removed) > 1:\n",
    "                    final_tokens.append(sc_removed)\n",
    "    joined = ' '.join(final_tokens)\n",
    "    preprocessed_text = re.sub(r'(.)\\1+', r'\\1\\1', joined)\n",
    "\n",
    "    return preprocessed_text"
   ]
  },
  {
   "cell_type": "code",
   "execution_count": 22,
   "metadata": {
    "colab": {
     "base_uri": "https://localhost:8080/",
     "height": 120
    },
    "executionInfo": {
     "elapsed": 1329,
     "status": "ok",
     "timestamp": 1616418598863,
     "user": {
      "displayName": "Sarah Haq",
      "photoUrl": "https://lh3.googleusercontent.com/a-/AOh14Gh7vs3P5_F3LYi7bEV8r1vbltDxEgpoYXmxHgxGBw=s64",
      "userId": "16294508270436203551"
     },
     "user_tz": -60
    },
    "id": "zFIyIKlzMwTQ",
    "outputId": "cf71a637-4200-48a2-bfc5-b32a5b7b5512"
   },
   "outputs": [
    {
     "data": {
      "text/plain": [
       "'LOAN apply situation car loan company provide fraudulent information damage credit MidAtlantic Finance Company Account xx confused current MAF loan MidAtlantic Finance Company report false item xx credit reporting agency continue damage credit tell qualify mortgage recently settle account agreement XX XX XX MAF report payment claim owe dispute XX XX recent false information report show debt month xx different amount charge plus interest include refer following owe MAF report original finance XX xx XX XX payment month XX xx xx XX car purchase XX XX finance HOUSE XX XX MAF statement XX XX XX payment MAF XX XX responsible prior late payment MAF record delinquency xx XX credit report know consider own MAF XX XX charge follow reason car total XX XX XX pay xx payment plus additional interest fee XX XX XX insurance company pay XX XX XX leave balance MAF dispute XX XX give payoff XX xx expiration date dispute month give finally MAF send accounting XX xx support claim payment wrongfully charge amount XX xx XX account pay MAF letter date xx XX XX MAF comply verbal agreement representative xx xx remove negative credit apply payment dispute balance owe show Paid include support document follow single pdf number accordingly MAF Accounting xx xx receive MAF XX xx write page MAF scan exactly receive unaware XX allegedly account prior xx XX payment directly car dealership prior XX XX MAF accounting show dispute owe XX XX XX MAF Payoff xx xx XX Receipts show XX send MAF XX xx XX prior payoff deadline XX XX XX agree sticky note conversation XX XX XX XX XX prior make xx payment later day MAF xx xx xx xx Screenshot email XX xx day payoff agreement reference attach say previously remiss send MAF payment xx XX day past deadline MAF Agreement XX XX XX Agreement clearly state pay XX XX XX account consider settlement account MAF report payment'"
      ]
     },
     "execution_count": 22,
     "metadata": {},
     "output_type": "execute_result"
    }
   ],
   "source": [
    "# Apply transformation to sample.\n",
    "\n",
    "spacy_cleaner(sample_text)"
   ]
  },
  {
   "cell_type": "code",
   "execution_count": 23,
   "metadata": {
    "colab": {
     "base_uri": "https://localhost:8080/",
     "height": 120
    },
    "executionInfo": {
     "elapsed": 426,
     "status": "ok",
     "timestamp": 1616418599444,
     "user": {
      "displayName": "Sarah Haq",
      "photoUrl": "https://lh3.googleusercontent.com/a-/AOh14Gh7vs3P5_F3LYi7bEV8r1vbltDxEgpoYXmxHgxGBw=s64",
      "userId": "16294508270436203551"
     },
     "user_tz": -60
    },
    "id": "ONHavldLNOCm",
    "outputId": "52e5aee1-1529-4968-e289-9566a009a772"
   },
   "outputs": [
    {
     "data": {
      "text/plain": [
       "'NONE OF YOUR \" MY LOAN IS A \\'\\' below apply to this situation! This was a car loan but the company is providing fraudulent information this is damaging my credit! \\n\\nRE : MidAtlantic Finance Company Account No. XXXX - NOT TO BE CONFUSED with my current MAF loan MidAtlantic Finance Company has reported several false items to all XXXX credit reporting agencies, and continues to do so. It is damaging my credit so much so that I was told I did n\\'t qualify for a mortgage. \\n\\nMost recently, I settled this account per agreement on XXXX XXXX, XXXX, yet MAF reported it is a payment on the amount claimed owed ( which has been disputed since XXXX XXXX ). But that is just the most recent false information that was reported. It is showing a debt of {$250.00} per month along with XXXX different amounts charged off of the {$950.00} ( plus interest ) and another {$5100.00} that INCLUDES the {$950.00}. Please refer to the following as I NEVER owed MAF {$8100.00} as it reported. That was the original amount financed in XXXX XXXX with XXXX XXXX, and I made payments of {$250.00} a month through XXXX XXXX to XXXX XXXX. \\n1 ) Car was purchased in XXXX XXXX and was financed IN HOUSE until XXXX XXXX per MAF \\'s statement of XXXX XXXX, XXXX, with my first payment being due to MAF XXXX XXXX. Therefore, I was not responsible for any prior late payments ( MAF recorded my first delinquency as XXXX XXXX ) and that should never have been on my credit report. I do not know why or HOW it can be considered owned by MAF since XXXX XXXX. \\n2 ) There was NEVER a charge-off of {$5100.00} for the following reasons : a. Car was totaled XXXX XXXX, XXXX. I paid the {$250.00} XXXX payment plus additional interest fees on XXXX XXXX, XXXX. The insurance company paid {$4200.00} on XXXX XXXX, XXXX, leaving a balance per MAF of {$950.00} ( disputed since XXXX XXXX ) ; b. I was given a payoff in XXXX XXXX of {$5200.00}, with no expiration date, so I disputed the {$950.00} for 18 months before giving up. Finally, MAF sent me the accounting in XXXX XXXX, which supports my claim of payments made and wrongfully charged-off amounts. \\n3 ) On XXXX XXXX, XXXX, this account was PAID IN FULL per MAF \\'s own letter dated XXXX XXXX, XXXX, yet MAF did not comply with the verbal agreement with its representative XXXX XXXX to remove negative credit AND it applied the {$500.00} as a payment toward the ( disputed ) balance owed rather than showing Paid in Full. \\nThe included supporting documents are as follows in a single PDF and numbered accordingly : 1 ) MAF - Accounting XXXX XXXX - received from MAF in XXXX XXXX - all writing on the page is by someone at MAF. This is a scan of exactly what I received. I was unaware that XXXX allegedly had my account prior to XXXX XXXX as all payments were made directly to the car dealership prior to XXXX XXXX. MAF accounting shows only {$950.00} ( disputed ) owed as of XXXX XXXX, XXXX. \\n2 ) MAF - Payoff XXXX XXXX XXXX - Receipts showing XXXX was sent to MAF on XXXX XXXX, XXXX prior to payoff deadline of XXXX XXXX, XXXX, for the agreed amount of {$500.00}. Also sticky note from conversation on XXXX XXXX, XXXX, with XXXX XXXX prior to making XXXX payment later that day. \\n3 ) MAF - XXXX XXXX XXXX XXXX - Screenshot of email from XXXX XXXX TWELVE days after payoff with the agreement referenced below attached that she said she previously was remiss in sending. By then MAF had my payment of {$500.00} since XXXX XXXX and 9 days past the deadline. \\n4 ) MAF - Agreement XX/XX/XXXX - Agreement clearly stating that if the {$500.00} was paid by XXXX XXXX, XXXX, my account would be considered \" settlement of the account \\'\\' yet MAF has reported it as a PAYMENT.'"
      ]
     },
     "execution_count": 23,
     "metadata": {},
     "output_type": "execute_result"
    }
   ],
   "source": [
    "# Compare to sample before transformation.\n",
    "\n",
    "sample_text"
   ]
  },
  {
   "cell_type": "code",
   "execution_count": 24,
   "metadata": {
    "colab": {
     "base_uri": "https://localhost:8080/",
     "height": 142
    },
    "executionInfo": {
     "elapsed": 28143,
     "status": "ok",
     "timestamp": 1616418628046,
     "user": {
      "displayName": "Sarah Haq",
      "photoUrl": "https://lh3.googleusercontent.com/a-/AOh14Gh7vs3P5_F3LYi7bEV8r1vbltDxEgpoYXmxHgxGBw=s64",
      "userId": "16294508270436203551"
     },
     "user_tz": -60
    },
    "id": "PGcpbr8fNYsr",
    "outputId": "330722a4-a041-46dc-a0af-6448638ea270"
   },
   "outputs": [
    {
     "data": {
      "text/html": [
       "<div>\n",
       "<style scoped>\n",
       "    .dataframe tbody tr th:only-of-type {\n",
       "        vertical-align: middle;\n",
       "    }\n",
       "\n",
       "    .dataframe tbody tr th {\n",
       "        vertical-align: top;\n",
       "    }\n",
       "\n",
       "    .dataframe thead th {\n",
       "        text-align: right;\n",
       "    }\n",
       "</style>\n",
       "<table border=\"1\" class=\"dataframe\">\n",
       "  <thead>\n",
       "    <tr style=\"text-align: right;\">\n",
       "      <th></th>\n",
       "      <th>user_id</th>\n",
       "      <th>Consumer complaint narrative</th>\n",
       "      <th>consumer_complaints_cleaned</th>\n",
       "    </tr>\n",
       "  </thead>\n",
       "  <tbody>\n",
       "    <tr>\n",
       "      <th>53</th>\n",
       "      <td>1a1448a4-bfe5-455f-bc29-dc79ec5fb2c0</td>\n",
       "      <td>NONE OF YOUR \" MY LOAN IS A '' below apply to ...</td>\n",
       "      <td>LOAN apply situation car loan company provide ...</td>\n",
       "    </tr>\n",
       "    <tr>\n",
       "      <th>59</th>\n",
       "      <td>5fede48c-096e-4f82-997d-8229007d8318</td>\n",
       "      <td>XX/XX/2014 I received a letter from the IRS st...</td>\n",
       "      <td>XX XX receive letter IRS state owe agency ask ...</td>\n",
       "    </tr>\n",
       "    <tr>\n",
       "      <th>65</th>\n",
       "      <td>fd9fc5ff-19bc-424c-880e-c159c110d21f</td>\n",
       "      <td>This was a revolving account in which I paid W...</td>\n",
       "      <td>revolving account pay Wells Fargo National Ban...</td>\n",
       "    </tr>\n",
       "  </tbody>\n",
       "</table>\n",
       "</div>"
      ],
      "text/plain": [
       "                                 user_id  \\\n",
       "53  1a1448a4-bfe5-455f-bc29-dc79ec5fb2c0   \n",
       "59  5fede48c-096e-4f82-997d-8229007d8318   \n",
       "65  fd9fc5ff-19bc-424c-880e-c159c110d21f   \n",
       "\n",
       "                         Consumer complaint narrative  \\\n",
       "53  NONE OF YOUR \" MY LOAN IS A '' below apply to ...   \n",
       "59  XX/XX/2014 I received a letter from the IRS st...   \n",
       "65  This was a revolving account in which I paid W...   \n",
       "\n",
       "                          consumer_complaints_cleaned  \n",
       "53  LOAN apply situation car loan company provide ...  \n",
       "59  XX XX receive letter IRS state owe agency ask ...  \n",
       "65  revolving account pay Wells Fargo National Ban...  "
      ]
     },
     "execution_count": 24,
     "metadata": {},
     "output_type": "execute_result"
    }
   ],
   "source": [
    "# Apply transformation to entire dataset.\n",
    "\n",
    "text_data['consumer_complaints_cleaned'] = \\\n",
    "text_data['Consumer complaint narrative'].apply(lambda x: spacy_cleaner(x))\n",
    "\n",
    "text_data.head(n = 3)\n",
    "\n",
    "\n"
   ]
  },
  {
   "cell_type": "code",
   "execution_count": null,
   "metadata": {},
   "outputs": [],
   "source": []
  }
 ],
 "metadata": {
  "colab": {
   "authorship_tag": "ABX9TyMSBJwt0iAcYogpMdSNmYZk",
   "collapsed_sections": [],
   "name": "text-processing.ipynb",
   "provenance": []
  },
  "kernelspec": {
   "display_name": "Python 3",
   "language": "python",
   "name": "python3"
  },
  "language_info": {
   "codemirror_mode": {
    "name": "ipython",
    "version": 3
   },
   "file_extension": ".py",
   "mimetype": "text/x-python",
   "name": "python",
   "nbconvert_exporter": "python",
   "pygments_lexer": "ipython3",
   "version": "3.7.6"
  }
 },
 "nbformat": 4,
 "nbformat_minor": 1
}
